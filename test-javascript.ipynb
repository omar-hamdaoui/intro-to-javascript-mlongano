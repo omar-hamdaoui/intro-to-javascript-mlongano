{
 "cells": [
  {
   "cell_type": "code",
   "execution_count": null,
   "metadata": {},
   "outputs": [
    {
     "name": "stdout",
     "output_type": "stream",
     "text": [
      "Hello, World!\n"
     ]
    }
   ],
   "source": [
    "console.log('Hello, World!');"
   ]
  },
  {
   "cell_type": "markdown",
   "metadata": {},
   "source": [
    "# Esempi di come si comportano i tipi di dato primitivi"
   ]
  },
  {
   "cell_type": "code",
   "execution_count": null,
   "metadata": {},
   "outputs": [],
   "source": [
    "{\n",
    "let age = 30;\n",
    "let age1 = age;\n",
    "age = 31;\n",
    "console.log(age1);\n",
    "console.log(age);\n",
    "\n",
    "let immutable = \"Hello\";\n",
    "let copy =\n",
    "\n",
    "\n",
    "}"
   ]
  },
  {
   "cell_type": "code",
   "execution_count": null,
   "metadata": {
    "vscode": {
     "languageId": "javascript"
    }
   },
   "outputs": [],
   "source": [
    "const newLocal = typeof 1;\n",
    "newLocal,23;\n",
    "typeof \"Hello\";\n",
    "typeof true;\n",
    "typeof [];\n",
    "typeof{};"
   ]
  },
  {
   "cell_type": "markdown",
   "metadata": {},
   "source": [
    "#Funzioni in JavaScript\n",
    "\n",
    "le funzioni in JS sono oggetti di prima classe , cioè possono\n",
    " essere passate come argomenti,assegnate a variabili e \n",
    " restituite da altre funzioni.\n",
    "\n",
    "Esistono due modi per definire una funzione in JS:\n",
    "\n",
    "-Dichiarazione/Istruzione di funzione\n",
    "-Espressione di funzione \n",
    "\n",
    "###Dichiarazione di funzione\n",
    "\n",
    "```javascript\n",
    "function nomeFunzione(parametro 1,parametro 2,...){\n",
    "   return valoreDiRitorno;\n",
    "}\n",
    "```"
   ]
  },
  {
   "cell_type": "code",
   "execution_count": null,
   "metadata": {
    "vscode": {
     "languageId": "javascript"
    }
   },
   "outputs": [],
   "source": [
    "function somma(a: number,b: number); number{\n",
    "  return a+b;\n",
    "}\n",
    "\n",
    "addEventListener(1, 2);"
   ]
  }
 ],
 "metadata": {
  "kernelspec": {
   "display_name": "Deno",
   "language": "typescript",
   "name": "deno"
  },
  "language_info": {
   "file_extension": ".ts",
   "mimetype": "text/x.typescript",
   "name": "typescript",
   "nb_converter": "script",
   "pygments_lexer": "typescript",
   "version": "5.3.3"
  }
 },
 "nbformat": 4,
 "nbformat_minor": 4
}
